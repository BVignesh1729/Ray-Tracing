{
 "cells": [
  {
   "cell_type": "code",
   "execution_count": 1,
   "id": "0e2f6e9a",
   "metadata": {},
   "outputs": [],
   "source": [
    "import numpy as np\n",
    "import matplotlib.pyplot as plt\n"
   ]
  },
  {
   "cell_type": "markdown",
   "id": "5f8fa0ae",
   "metadata": {},
   "source": [
    "#### Defining objects(spherical) and intersection point to any given sphere"
   ]
  },
  {
   "cell_type": "code",
   "execution_count": 2,
   "id": "e4f8ff8c",
   "metadata": {},
   "outputs": [],
   "source": [
    "#Spherical objects\n",
    "\n",
    "objects = [\n",
    "    {'centre' : np.array([-0.2,0,-1]), 'radius' : 0.7, 'ambient' : np.array([0.0,0.0,0.1]), 'diffuse' : np.array([0.0,0.0,0.8]), 'specular' : np.array([1,1,1]), 'shininess' : 100, 'reflection' : 0.25},\n",
    "    {'centre' : np.array([0.1,-0.3,0]), 'radius' : 0.1, 'ambient' : np.array([0.1,0.0,0.0]), 'diffuse' : np.array([0.8,0.0,0.0]), 'specular' : np.array([1,1,1]), 'shininess' : 100, 'reflection' : 0.25},\n",
    "    {'centre' : np.array([-0.3,0,0]), 'radius' : 0.15, 'ambient' : np.array([0.0,0.2,0.0]), 'diffuse' : np.array([0.0,0.7,0.0]), 'specular' : np.array([1,1,1]), 'shininess' : 100, 'reflection' : 0.25},\n",
    "    {'centre' : np.array([0,-9000,0]), 'radius' : 9000-0.7, 'ambient': np.array([0.1, 0.1, 0.1]), 'diffuse': np.array([0.6, 0.6, 0.6]), 'specular': np.array([1, 1, 1]), 'shininess': 100, 'reflection' : 0.25}\n",
    "    \n",
    "]\n",
    "\n",
    "lights = [{'position' : np.array([7,5,5]), 'ambient' : np.array([1,1,1]), 'diffuse' : np.array([1,1,1]), 'specular' : np.array([1,1,1])},\n",
    "    #{'position' : np.array([-10,10,10]), 'ambient' : np.array([1,1,1]), 'diffuse' : np.array([1,1,1]), 'specular' : np.array([1,1,1])}\n",
    "]\n",
    "\n",
    "\n",
    "def sphere_intersect(centre, radius, ray_origin, ray_dir):\n",
    "    b = 2*np.dot(ray_dir,ray_origin-centre)\n",
    "    c = np.linalg.norm(ray_origin-centre)**2 - radius**2\n",
    "    a = 1\n",
    "    disc = b**2-4*c\n",
    "    \n",
    "    if disc>0:\n",
    "        t1 = (-b + np.sqrt(disc))/2\n",
    "        t2 = (-b - np.sqrt(disc))/2\n",
    "        if t1>0 and t2>0: # If sphere is completely behind the screen, with camera in front of the screen, then  for sure both t1 and t2 will be positive\n",
    "            return min(t1,t2) # Nearest point intersection\n",
    "        \n",
    "    return None"
   ]
  },
  {
   "cell_type": "markdown",
   "id": "0bb124f2",
   "metadata": {},
   "source": [
    "#### Finding the intersection point to the nearest object in case the ray intersects any object in the scene"
   ]
  },
  {
   "cell_type": "code",
   "execution_count": 3,
   "id": "ce61999b",
   "metadata": {},
   "outputs": [],
   "source": [
    "def nearest_object_intersection(objects, ray_origin, ray_dir):\n",
    "    dists = [sphere_intersect(obj['centre'],obj['radius'],ray_origin,ray_dir) for obj in objects]\n",
    "    nearest_obj = None\n",
    "    min_t = np.inf\n",
    "    for i,d in enumerate(dists):\n",
    "        if d is not None and min_t>d:\n",
    "            min_t = d\n",
    "            nearest_obj = objects[i]\n",
    "    \n",
    "    return nearest_obj, min_t"
   ]
  },
  {
   "cell_type": "markdown",
   "id": "4beb9327",
   "metadata": {},
   "source": [
    "#### Vector manipulation functions"
   ]
  },
  {
   "cell_type": "code",
   "execution_count": 4,
   "id": "546a7058",
   "metadata": {},
   "outputs": [],
   "source": [
    "def normalize(vector):\n",
    "    return vector/np.linalg.norm(vector)\n",
    "\n",
    "def reflected(vector, axis):\n",
    "    return vector - 2*np.dot(vector,axis)*axis"
   ]
  },
  {
   "cell_type": "markdown",
   "id": "70802e88",
   "metadata": {},
   "source": [
    "### Implementing the steps"
   ]
  },
  {
   "cell_type": "code",
   "execution_count": 18,
   "id": "f46278cc",
   "metadata": {},
   "outputs": [],
   "source": [
    "width = 300\n",
    "height = 300\n",
    "max_depth = 3\n",
    "\n",
    "ratio = float(width/height)\n",
    "\n",
    "camera = np.array([0,0,1])\n",
    "screen = (-1,1/ratio,1,-1/ratio)\n",
    "\n",
    "image = np.zeros((height,width,3))\n",
    "\n",
    "#Enumerating over the screen, pixel by pixel\n",
    "for i,y in enumerate(np.linspace(screen[1],screen[3],height)):\n",
    "    for j,x in enumerate(np.linspace(screen[0],screen[2],width)):\n",
    "        \n",
    "        pixel = np.array([x,y,0])\n",
    "        #Ray defined using origin and direction in the parametric equation\n",
    "        origin = camera\n",
    "        direction = normalize(pixel-origin)\n",
    "        colour = np.zeros((3))\n",
    "        reflection = 1\n",
    "        \n",
    "        for r in range(max_depth):\n",
    "            \n",
    "            #Finding the nearest object of intersection, if any\n",
    "            nearest_obj, t = nearest_object_intersection(objects, origin,direction)\n",
    "            if nearest_obj is None:\n",
    "                break\n",
    "            intersect_point = origin + direction*t\n",
    "\n",
    "            #Initialise illumination\n",
    "            illumination = np.zeros((3))\n",
    "\n",
    "            #Checking if light source is not blocked towards this point\n",
    "            #Shifting a little in the direction of the normal to avoid including the nearest sphere as an obstacle\n",
    "            sphere_normal = normalize(intersect_point - nearest_obj['centre'])\n",
    "            shift = intersect_point + 1e-5*sphere_normal\n",
    "            for light in lights:\n",
    "\n",
    "                obstacle_direction = normalize(light['position'] - shift)\n",
    "                _,obs_t = nearest_object_intersection(objects,shift,obstacle_direction)\n",
    "                light_dist = np.linalg.norm(light['position']-shift)\n",
    "                is_shadowed = light_dist>obs_t\n",
    "                if is_shadowed:\n",
    "                    continue\n",
    "\n",
    "\n",
    "                #ambiant component\n",
    "                illumination += nearest_obj['ambient']*light['ambient']\n",
    "\n",
    "                #diffuse component\n",
    "                illumination += nearest_obj['diffuse']*light['diffuse']*np.dot(obstacle_direction, sphere_normal)\n",
    "\n",
    "                #specular component\n",
    "                #illumination += nearest_obj['specular']*light['specular']*(np.dot(sphere_normal,normalize(obstacle_direction-direction)))** (nearest_obj['shininess'] / 4)\n",
    "                intersection_to_camera = normalize(camera - intersect_point)\n",
    "                H = normalize(obstacle_direction + intersection_to_camera)\n",
    "                illumination += nearest_obj['specular'] * light['specular'] * np.dot(sphere_normal, H) ** (nearest_obj['shininess'] / 4)\n",
    "                \n",
    "            colour += illumination*reflection\n",
    "            reflection *= nearest_obj['reflection']\n",
    "            origin = intersect_point\n",
    "            direction = reflected(direction,sphere_normal)\n",
    "            \n",
    "\n",
    "        #Set the illumination\n",
    "        image[i, j] = np.clip(colour, 0, 1)\n",
    "\n",
    "        \n",
    "        \n",
    "\n",
    "plt.imsave('image.png',image)"
   ]
  },
  {
   "cell_type": "code",
   "execution_count": null,
   "id": "516d3629",
   "metadata": {},
   "outputs": [],
   "source": []
  }
 ],
 "metadata": {
  "kernelspec": {
   "display_name": "Python 3 (ipykernel)",
   "language": "python",
   "name": "python3"
  },
  "language_info": {
   "codemirror_mode": {
    "name": "ipython",
    "version": 3
   },
   "file_extension": ".py",
   "mimetype": "text/x-python",
   "name": "python",
   "nbconvert_exporter": "python",
   "pygments_lexer": "ipython3",
   "version": "3.8.10"
  }
 },
 "nbformat": 4,
 "nbformat_minor": 5
}
