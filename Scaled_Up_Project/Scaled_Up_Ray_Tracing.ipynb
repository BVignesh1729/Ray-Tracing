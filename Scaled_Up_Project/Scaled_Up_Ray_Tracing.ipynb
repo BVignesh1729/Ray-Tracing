{
 "cells": [
  {
   "cell_type": "code",
   "execution_count": 1,
   "id": "0e2f6e9a",
   "metadata": {},
   "outputs": [],
   "source": [
    "import numpy as np\n",
    "import matplotlib.pyplot as plt\n",
    "from joblib import Parallel, delayed"
   ]
  },
  {
   "cell_type": "markdown",
   "id": "3d3f2944",
   "metadata": {},
   "source": [
    "#### Initializing the screen pixel coordinates with its first position(camera at (-1,0,0))"
   ]
  },
  {
   "cell_type": "code",
   "execution_count": 5,
   "id": "58802b7e",
   "metadata": {},
   "outputs": [],
   "source": [
    "width = 300\n",
    "height = 300\n",
    "ratio = float(width) / height\n",
    "\n",
    "camera = np.array([-1,0,0])\n",
    "slt = np.array([0,1/ratio,-1]) #screen top left coordinates(relative)\n",
    "srb = np.array([0,-1/ratio,1]) #screen bottom right coordinates(relative)\n",
    "\n",
    "screen = np.zeros((height,width,3))\n",
    "\n",
    "w=0;\n",
    "h=0;\n",
    "for y in np.linspace(1/ratio,-1/ratio,height):\n",
    "    for z in np.linspace(-1,1,width):\n",
    "        screen[w][h] = np.array([0,y,z])\n",
    "        h+=1\n",
    "        if h==width:\n",
    "            h=0\n",
    "            w+=1\n",
    "            \n",
    "    "
   ]
  },
  {
   "cell_type": "markdown",
   "id": "a8c30e53",
   "metadata": {},
   "source": [
    "#### Rotation Matrix"
   ]
  },
  {
   "cell_type": "code",
   "execution_count": 6,
   "id": "16c50ba7",
   "metadata": {},
   "outputs": [],
   "source": [
    "def rotate_camera_and_screen(screen, theta, radius):\n",
    "    rot_matrix = np.array([[np.cos(theta), 0, -np.sin(theta)],\n",
    "                           [0, 1, 0],\n",
    "                           [np.sin(theta), 0, np.cos(theta)]])\n",
    "    \n",
    "    return np.dot(screen,rot_matrix.T), np.array([-np.cos(theta)*radius, 0, -np.sin(theta)*radius])\n",
    "    "
   ]
  },
  {
   "cell_type": "markdown",
   "id": "8cd938eb",
   "metadata": {},
   "source": [
    "#### Defining objects(spherical) and intersection point to any given sphere"
   ]
  },
  {
   "cell_type": "code",
   "execution_count": 12,
   "id": "e4f8ff8c",
   "metadata": {},
   "outputs": [],
   "source": [
    "#Spherical objects\n",
    "\n",
    "objects = [\n",
    "    {'centre' : np.array([-0.2,0,-1]), 'radius' : 0.7, 'ambient' : np.array([0.0,0.0,0.1]), 'diffuse' : np.array([0.0,0.0,0.8]), 'specular' : np.array([1,1,1]), 'shininess' : 100, 'reflection' : 0.5},\n",
    "    {'centre' : np.array([0.1,-0.3,0]), 'radius' : 0.1, 'ambient' : np.array([0.1,0.0,0.0]), 'diffuse' : np.array([0.8,0.0,0.0]), 'specular' : np.array([1,1,1]), 'shininess' : 100, 'reflection' : 0.5},\n",
    "    {'centre' : np.array([-0.3,0,0]), 'radius' : 0.15, 'ambient' : np.array([0.0,0.2,0.0]), 'diffuse' : np.array([0.0,0.7,0.0]), 'specular' : np.array([1,1,1]), 'shininess' : 100, 'reflection' : 0.5},\n",
    "    {'centre' : np.array([0,-9000,0]), 'radius' : 9000-0.7, 'ambient': np.array([0.1, 0.1, 0.1]), 'diffuse': np.array([0.6, 0.6, 0.6]), 'specular': np.array([1, 1, 1]), 'shininess': 100, 'reflection' : 0.5}\n",
    "    \n",
    "]\n",
    "\n",
    "lights = [{'position' : np.array([7,5,5]), 'ambient' : np.array([1,1,1]), 'diffuse' : np.array([1,1,1]), 'specular' : np.array([1,1,1])},\n",
    "    #{'position' : np.array([-10,10,10]), 'ambient' : np.array([1,1,1]), 'diffuse' : np.array([1,1,1]), 'specular' : np.array([1,1,1])}\n",
    "]\n",
    "\n",
    "\n",
    "def sphere_intersect(centre, radius, ray_origin, ray_dir):\n",
    "    b = 2*np.dot(ray_dir,ray_origin-centre)\n",
    "    c = np.linalg.norm(ray_origin-centre)**2 - radius**2\n",
    "    a = 1\n",
    "    disc = b**2-4*c\n",
    "    \n",
    "    if disc>0:\n",
    "        t1 = (-b + np.sqrt(disc))/2\n",
    "        t2 = (-b - np.sqrt(disc))/2\n",
    "        if t1>0 and t2>0: # If sphere is completely behind the screen, with camera in front of the screen, then  for sure both t1 and t2 will be positive\n",
    "            return min(t1,t2) # Nearest point intersection\n",
    "        \n",
    "    return None"
   ]
  },
  {
   "cell_type": "markdown",
   "id": "0bb124f2",
   "metadata": {},
   "source": [
    "#### Finding the intersection point to the nearest object in case the ray intersects any object in the scene"
   ]
  },
  {
   "cell_type": "code",
   "execution_count": 13,
   "id": "ce61999b",
   "metadata": {},
   "outputs": [],
   "source": [
    "def nearest_object_intersection(objects, ray_origin, ray_dir):\n",
    "    dists = [sphere_intersect(obj['centre'],obj['radius'],ray_origin,ray_dir) for obj in objects]\n",
    "    nearest_obj = None\n",
    "    min_t = np.inf\n",
    "    for i,d in enumerate(dists):\n",
    "        if d is not None and min_t>d:\n",
    "            min_t = d\n",
    "            nearest_obj = objects[i]\n",
    "    \n",
    "    return nearest_obj, min_t"
   ]
  },
  {
   "cell_type": "markdown",
   "id": "4beb9327",
   "metadata": {},
   "source": [
    "#### Vector manipulation functions"
   ]
  },
  {
   "cell_type": "code",
   "execution_count": 14,
   "id": "546a7058",
   "metadata": {},
   "outputs": [],
   "source": [
    "def normalize(vector):\n",
    "    return vector/np.linalg.norm(vector)\n",
    "\n",
    "def reflected(vector, axis):\n",
    "    return vector - 2*np.dot(vector,axis)*axis"
   ]
  },
  {
   "cell_type": "markdown",
   "id": "70802e88",
   "metadata": {},
   "source": [
    "### Implementing the steps"
   ]
  },
  {
   "cell_type": "code",
   "execution_count": 15,
   "id": "cf8a6288",
   "metadata": {},
   "outputs": [],
   "source": [
    "def theta_calc(num,theta,screen):\n",
    "    image = np.zeros((height,width,3))\n",
    "    new_screen, new_camera = rotate_camera_and_screen(screen, theta, 3)\n",
    "\n",
    "    #Enumerating over the screen, pixel by pixel\n",
    "    for i in range(height):\n",
    "        for j in range(width):\n",
    "            \n",
    "            pixel = new_screen[i][j]\n",
    "            #Ray defined using origin and direction in the parametric equation\n",
    "            origin = new_camera\n",
    "            direction = normalize(pixel-origin)\n",
    "            colour = np.zeros((3))\n",
    "            reflection = 1\n",
    "\n",
    "            for r in range(max_depth):\n",
    "\n",
    "                #Finding the nearest object of intersection, if any\n",
    "                nearest_obj, t = nearest_object_intersection(objects, origin,direction)\n",
    "                if nearest_obj is None:\n",
    "                    break\n",
    "                intersect_point = origin + direction*t\n",
    "\n",
    "                #Initialise illumination\n",
    "                illumination = np.zeros((3))\n",
    "\n",
    "                #Checking if light source is not blocked towards this point\n",
    "                #Shifting a little in the direction of the normal to avoid including the nearest sphere as an obstacle\n",
    "                sphere_normal = normalize(intersect_point - nearest_obj['centre'])\n",
    "                shift = intersect_point + 1e-5*sphere_normal\n",
    "                for light in lights:\n",
    "\n",
    "                    obstacle_direction = normalize(light['position'] - shift)\n",
    "                    _,obs_t = nearest_object_intersection(objects,shift,obstacle_direction)\n",
    "                    light_dist = np.linalg.norm(light['position']-shift)\n",
    "                    is_shadowed = light_dist>obs_t\n",
    "                    if is_shadowed:\n",
    "                        continue\n",
    "\n",
    "\n",
    "                    #ambiant component\n",
    "                    illumination += nearest_obj['ambient']*light['ambient']\n",
    "\n",
    "                    #diffuse component\n",
    "                    illumination += nearest_obj['diffuse']*light['diffuse']*np.dot(obstacle_direction, sphere_normal)\n",
    "\n",
    "                    #specular component\n",
    "                    #illumination += nearest_obj['specular']*light['specular']*(np.dot(sphere_normal,normalize(obstacle_direction-direction)))** (nearest_obj['shininess'] / 4)\n",
    "                    intersection_to_camera = normalize(camera - intersect_point)\n",
    "                    H = normalize(obstacle_direction + intersection_to_camera)\n",
    "                    illumination += nearest_obj['specular'] * light['specular'] * np.dot(sphere_normal, H) ** (nearest_obj['shininess'] / 4)\n",
    "\n",
    "                colour += illumination*reflection\n",
    "                reflection *= nearest_obj['reflection']\n",
    "                origin = intersect_point\n",
    "                direction = reflected(direction,sphere_normal)\n",
    "\n",
    "\n",
    "            #Set the illumination\n",
    "            image[i, j] = np.clip(colour, 0, 1)\n",
    "    plt.imsave(f'image_{num}.png',image)\n"
   ]
  },
  {
   "cell_type": "code",
   "execution_count": 16,
   "id": "f46278cc",
   "metadata": {},
   "outputs": [
    {
     "data": {
      "text/plain": [
       "[None,\n",
       " None,\n",
       " None,\n",
       " None,\n",
       " None,\n",
       " None,\n",
       " None,\n",
       " None,\n",
       " None,\n",
       " None,\n",
       " None,\n",
       " None,\n",
       " None,\n",
       " None,\n",
       " None,\n",
       " None,\n",
       " None,\n",
       " None,\n",
       " None,\n",
       " None,\n",
       " None,\n",
       " None,\n",
       " None,\n",
       " None,\n",
       " None,\n",
       " None,\n",
       " None,\n",
       " None,\n",
       " None,\n",
       " None,\n",
       " None,\n",
       " None,\n",
       " None,\n",
       " None,\n",
       " None,\n",
       " None,\n",
       " None,\n",
       " None,\n",
       " None,\n",
       " None,\n",
       " None,\n",
       " None,\n",
       " None,\n",
       " None,\n",
       " None,\n",
       " None,\n",
       " None,\n",
       " None,\n",
       " None,\n",
       " None]"
      ]
     },
     "execution_count": 16,
     "metadata": {},
     "output_type": "execute_result"
    }
   ],
   "source": [
    "max_depth = 3\n",
    "\n",
    "thetas = np.linspace(0,-2*np.pi,50)\n",
    "\n",
    "# for num,theta in enumerate(thetas):\n",
    "#     theta_calc(num,theta,screen)\n",
    "    \n",
    "\n",
    "\n",
    "Parallel(n_jobs=50)(delayed(theta_calc)(num,theta,screen) for num,theta in enumerate(thetas))\n",
    "    "
   ]
  },
  {
   "cell_type": "code",
   "execution_count": 29,
   "id": "516d3629",
   "metadata": {},
   "outputs": [],
   "source": [
    "import cv2\n",
    "import os\n",
    "\n",
    "image_folder = '.'\n",
    "video_name = 'video_50_images.avi'\n",
    "\n",
    "#images = [img for img in os.listdir(image_folder) if img.endswith(\".png\")]\n",
    "frame = cv2.imread(os.path.join(image_folder, \"image_0.png\"))\n",
    "height, width, layers = frame.shape\n",
    "\n",
    "video = cv2.VideoWriter(video_name, 0, 10, (width,height))\n",
    "\n",
    "for k in range(3):\n",
    "    for index in range(50):\n",
    "        video.write(cv2.imread(os.path.join(image_folder, f\"image_{index}.png\")))\n",
    "\n",
    "cv2.destroyAllWindows()\n",
    "video.release()\n",
    "\n",
    "\n"
   ]
  },
  {
   "cell_type": "code",
   "execution_count": null,
   "id": "b9aeb07d",
   "metadata": {},
   "outputs": [],
   "source": []
  }
 ],
 "metadata": {
  "kernelspec": {
   "display_name": "Python 3 (ipykernel)",
   "language": "python",
   "name": "python3"
  },
  "language_info": {
   "codemirror_mode": {
    "name": "ipython",
    "version": 3
   },
   "file_extension": ".py",
   "mimetype": "text/x-python",
   "name": "python",
   "nbconvert_exporter": "python",
   "pygments_lexer": "ipython3",
   "version": "3.8.10"
  }
 },
 "nbformat": 4,
 "nbformat_minor": 5
}
